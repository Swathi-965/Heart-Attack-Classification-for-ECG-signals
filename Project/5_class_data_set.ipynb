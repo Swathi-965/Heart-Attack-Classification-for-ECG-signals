{
 "cells": [
  {
   "cell_type": "code",
   "execution_count": 62,
   "metadata": {},
   "outputs": [],
   "source": [
    "import subprocess\n",
    "import os\n",
    "import numpy as np\n",
    "import matplotlib.pyplot as plt\n",
    "from sklearn.model_selection import train_test_split,StratifiedKFold,cross_val_score\n",
    "from sklearn.naive_bayes import GaussianNB\n",
    "from sklearn import tree\n",
    "from sklearn.metrics import classification_report\n",
    "from keras.models import Sequential\n",
    "from keras.layers import Reshape\n",
    "from keras.layers import Dense, Flatten, Conv1D, MaxPooling1D\n",
    "from sklearn import svm\n",
    "from sklearn.svm import SVC\n",
    "import torch.nn as nn\n",
    "import torch.nn.functional as F\n",
    "import torch\n",
    "import torch.optim as optim\n",
    "from torch.utils.data import DataLoader\n",
    "from tsaug import Drift,Reverse,AddNoise,Pool,Quantize\n",
    "torch.manual_seed(111)\n",
    "np.random.seed(111)"
   ]
  },
  {
   "cell_type": "code",
   "execution_count": 6,
   "metadata": {},
   "outputs": [
    {
     "name": "stdout",
     "output_type": "stream",
     "text": [
      "Class 0 72471 Examples\n",
      "Class 1 2223 Examples\n",
      "Class 2 5788 Examples\n",
      "Class 3 641 Examples\n",
      "Class 4 6431 Examples\n"
     ]
    },
    {
     "data": {
      "image/png": "[encoded data removed]",
      "text/plain": [
       "<Figure size 720x720 with 1 Axes>"
      ]
     },
     "metadata": {
      "needs_background": "light"
     },
     "output_type": "display_data"
    }
   ],
   "source": [
    "def plot_examples(labels,counts,file_name='mitdb.png'):\n",
    "    x = np.arange(len(labels))  # the label locations\n",
    "    width = 0.35  # the width of the bars\n",
    "\n",
    "    fig, ax = plt.subplots()\n",
    "    rects1 = ax.bar(x, counts, width, label='Class Distribution')\n",
    "    # Add some text for labels, title and custom x-axis tick labels, etc.\n",
    "    ax.set_ylabel('Counts',fontsize=22)\n",
    "    ax.set_title('Classes',fontsize=22)\n",
    "    ax.set_xticks(x)\n",
    "    \n",
    "    \n",
    "\n",
    "\n",
    "    def autolabel(rects):\n",
    "        \"\"\"Attach a text label above each bar in *rects*, displaying its height.\"\"\"\n",
    "        for indx,rect in enumerate(rects):\n",
    "            height = counts[indx]\n",
    "            ax.annotate('{}'.format(height),\n",
    "                        xy=(rect.get_x() + rect.get_width() / 2, height),\n",
    "                        xytext=(0, 3),  # 3 points vertical offset\n",
    "                        textcoords=\"offset points\",\n",
    "                        ha='center', va='bottom',fontsize=22)\n",
    "\n",
    "\n",
    "    autolabel(rects1)\n",
    "\n",
    "    fig.tight_layout()\n",
    "    fig = plt.gcf()\n",
    "    fig.set_size_inches(10, 10)\n",
    "    plt.xticks(fontsize=15)\n",
    "    plt.yticks(fontsize=15)\n",
    "    plt.savefig(file_name)\n",
    "    #plt.show()\n",
    "\n",
    "\n",
    "train_data_mit = np.genfromtxt('mitbih_train.csv', delimiter=',')\n",
    "test_data_mit=np.genfromtxt('mitbih_test.csv',delimiter=\",\")\n",
    "\n",
    "\"\"\"indices=train_data_mit[:,-1]!=0.0\n",
    "train_data_mit[indices,-1]=1.0\n",
    "\n",
    "indices=test_data_mit[:,-1]!=0.0\n",
    "test_data_mit[indices,-1]=1.0\n",
    "#print(test_data_mit)\n",
    "test_label_types=np.unique(test_data_mit[:,-1])\n",
    "print(test_label_types)\n",
    "\n",
    "for values in test_label_types:\n",
    "    print(\"Class {0} {1} Examples\".format(int(values),np.sum(test_data_mit[:,-1]==values)))\n",
    "    print(np.sum(test_data_mit[:,-1]==values))\n",
    "    #examples_per_class.append(np.sum(train_data_mit[:,-1]==values))\n",
    "#print(np.unique(test_data_mit[:,-1]))\n",
    "\"\"\"\n",
    "label_types = np.unique(train_data_mit[:,-1])\n",
    "examples_per_class=[]\n",
    "\n",
    "for values in label_types:\n",
    "    print(\"Class {0} {1} Examples\".format(int(values),np.sum(train_data_mit[:,-1]==values)))\n",
    "    examples_per_class.append(np.sum(train_data_mit[:,-1]==values))\n",
    "\n",
    "plot_examples(label_types,examples_per_class)\n",
    "\n",
    "#train_labels_mit=train_data_mit[:,-1]\n",
    "#train_data_mit=train_data_mit[:,:-1]\n"
   ]
  },
  {
   "cell_type": "code",
   "execution_count": 42,
   "metadata": {},
   "outputs": [],
   "source": [
    "class CNN(nn.Module):\n",
    "    def __init__(self):\n",
    "        super(CNN, self).__init__()\n",
    "        self.conv1 = nn.Conv1d(1, 4, 3)\n",
    "        self.bn1=nn.BatchNorm1d(4)\n",
    "        \n",
    "        \n",
    "        \n",
    "        self.conv2 = nn.Conv1d(4, 16, 3)\n",
    "        self.bn2=nn.BatchNorm1d(16)\n",
    "        \n",
    "        self.conv3 = nn.Conv1d(16, 64, 3)\n",
    "        self.bn3=nn.BatchNorm1d(64)\n",
    "        \n",
    "        self.conv4 = nn.Conv1d(64, 128, 3)\n",
    "        self.bn4=nn.BatchNorm1d(128)\n",
    "        \n",
    "        \n",
    "        \n",
    "        self.fc1 = nn.Linear(128 * 9, 128 * 9)\n",
    "        self.fc2 = nn.Linear(128 * 9, 5)\n",
    "        #self.predict=nn.Softmax(dim=1)\n",
    "        \n",
    "    def forward(self, x):\n",
    "        x=F.avg_pool1d(F.relu(self.bn1(self.conv1(x))),2)\n",
    "        x=F.avg_pool1d(F.relu(self.bn2(self.conv2(x))),2)\n",
    "        x=F.avg_pool1d(F.relu(self.bn3(self.conv3(x))),2)\n",
    "        x=F.avg_pool1d(F.relu(self.bn4(self.conv4(x))),2)\n",
    "        \n",
    "        #print(x.size())\n",
    "        \n",
    "        \"\"\"\n",
    "        x=F.dropout(F.avg_pool1d(F.relu(self.bn1(self.conv1(x))),2),p=0.1)\n",
    "        x=F.dropout(F.avg_pool1d(F.relu(self.bn2(self.conv2(x))),2),p=0.1)\n",
    "        x=F.dropout(F.avg_pool1d(F.relu(self.bn3(self.conv3(x))),2),p=0.1)\n",
    "        x=F.dropout(F.avg_pool1d(F.relu(self.bn4(self.conv4(x))),2),p=0.1)\n",
    "        \"\"\"\n",
    "        \n",
    "        #x=F.avg_pool1d(F.relu(self.bn1(self.conv1(x))),2)\n",
    "        #x=F.avg_pool1d(F.relu(self.bn2(self.conv2(x))),2)\n",
    "        #print(x.size())\n",
    "        #x=F.dropout(F.avg_pool1d(F.relu(self.bn3(self.conv3(x))),2),p=0.5)\n",
    "        \n",
    "        x = x.view(-1, self.num_flat_features(x))\n",
    "        \n",
    "        x=F.relu(self.fc1(x))\n",
    "        #x = F.dropout(F.relu(self.fc1(x)),p=0.1)\n",
    "        x = F.relu(self.fc2(x))\n",
    "        #x=F.dropout(F.relu(self.fc2(x)),p=0.1)\n",
    "        #x=self.predict(x)\n",
    "        return x\n",
    "    \n",
    "    def feature_extract(self,x):\n",
    "        x=F.avg_pool1d(F.relu(self.bn1(self.conv1(x))),2)\n",
    "        x=F.avg_pool1d(F.relu(self.bn2(self.conv2(x))),2)\n",
    "        x=F.avg_pool1d(F.relu(self.bn3(self.conv3(x))),2)\n",
    "        x=F.avg_pool1d(F.relu(self.bn4(self.conv4(x))),2)\n",
    "        x = x.view(-1, self.num_flat_features(x))\n",
    "        #print(x.size())\n",
    "        return x\n",
    "    def num_flat_features(self, x):\n",
    "        size = x.size()[1:]  # all dimensions except the batch dimension\n",
    "        num_features = 1\n",
    "        for s in size:\n",
    "            #print(s)\n",
    "            num_features *= s\n",
    "        return num_features"
   ]
  },
  {
   "cell_type": "code",
   "execution_count": 43,
   "metadata": {},
   "outputs": [],
   "source": [
    "def init(weights=None):\n",
    "    net=CNN()\n",
    "    loss=nn.CrossEntropyLoss(weight=weights)\n",
    "    _optim=optim.Adam(net.parameters(),lr=0.001)\n",
    "    return net,loss,_optim"
   ]
  },
  {
   "cell_type": "code",
   "execution_count": 192,
   "metadata": {},
   "outputs": [],
   "source": [
    "#Train Validation Split\n",
    "def test_train_split(X,Y,random_state=1,split=0.8):\n",
    "    return train_test_split(X,Y,train_size=split,stratify=Y)\n",
    "#Train validation split for ot\n",
    "#print(train_data_mit.shape)\n",
    "train_data_mit,train_labels_mit=train_data_mit[:,:-1],train_data_mit[:,-1]\n",
    "#print(train_data_mit.shape,train_labels_mit.shape)\n",
    "train_data_mit,cv_data_mit,train_labels_mit,cv_labels_mit=test_train_split(train_data_mit,train_labels_mit)\n",
    "\n",
    "train_data_mit=np.append(train_data_mit,train_labels_mit.reshape((train_labels_mit.shape[0],1)),axis=1)\n",
    "cv_data_mit=np.append(cv_data_mit,cv_labels_mit.reshape((cv_labels_mit.shape[0],1)),axis=1)"
   ]
  },
  {
   "cell_type": "code",
   "execution_count": 171,
   "metadata": {},
   "outputs": [
    {
     "name": "stdout",
     "output_type": "stream",
     "text": [
      "Trial, 0\n",
      "Trial, 1\n"
     ]
    },
    {
     "name": "stderr",
     "output_type": "stream",
     "text": [
      "/home/vineeth/.pyenv/versions/3.8.0/envs/iml/lib/python3.8/site-packages/sklearn/metrics/_classification.py:1221: UndefinedMetricWarning: Precision and F-score are ill-defined and being set to 0.0 in labels with no predicted samples. Use `zero_division` parameter to control this behavior.\n",
      "  _warn_prf(average, modifier, msg_start, len(result))\n"
     ]
    },
    {
     "name": "stdout",
     "output_type": "stream",
     "text": [
      "Trial, 2\n",
      "Trial, 3\n",
      "Trial, 4\n",
      "              precision    recall  f1-score   support\n",
      "\n",
      "         0.0       0.99      0.95      0.97     14494\n",
      "         1.0       0.44      0.85      0.58       445\n",
      "         2.0       0.93      0.85      0.89      1158\n",
      "         3.0       0.45      0.91      0.60       128\n",
      "         4.0       0.95      0.99      0.97      1286\n",
      "\n",
      "    accuracy                           0.95     17511\n",
      "   macro avg       0.75      0.91      0.80     17511\n",
      "weighted avg       0.96      0.95      0.95     17511\n",
      "\n"
     ]
    }
   ],
   "source": [
    "def test_results(model,testloader,output_dict=False):\n",
    "    with torch.no_grad():\n",
    "        all_preds=[]\n",
    "        all_labels=[]\n",
    "        for _,test_data in enumerate(testloader,0):\n",
    "            test_data,test_labels=test_data[:,:-1],test_data[:,-1]\n",
    "            test_data=test_data.view(-1,1,test_data.size()[1])\n",
    "            #print(test_data.size())\n",
    "            outputs=model(test_data.double())\n",
    "            _,pred=torch.max(outputs,1)\n",
    "            pred=pred.to(torch.double)\n",
    "            test_labels=test_labels.to(torch.double)\n",
    "            all_preds.extend(pred.tolist())\n",
    "            all_labels.extend(list(test_labels))\n",
    "        \n",
    "    report=classification_report(all_labels,all_preds,output_dict=output_dict)\n",
    "    return report,np.unique(all_labels)        \n",
    "    \n",
    "torch.backends.cudnn.benchmark = False\n",
    "\n",
    "weights=(max(examples_per_class)*1.0)/torch.Tensor(examples_per_class)\n",
    "\n",
    "batch_size=512\n",
    "dataloader=DataLoader(train_data_mit,shuffle=True,batch_size=batch_size)\n",
    "testloader=DataLoader(test_data_mit,batch_size=batch_size)\n",
    "valloader=DataLoader(cv_data_mit,batch_size=cv_data_mit.shape[0])\n",
    "\n",
    "epochs=10\n",
    "\n",
    "def get_best_model(num_epochs=5,trials=5):\n",
    "    max_f1_score=float(\"-inf\")\n",
    "    best_model=None\n",
    "    for trial in range(trials):\n",
    "        model,loss,_optim=init(weights=weights.double())\n",
    "        model=model.double()\n",
    "        #print(loss.weights)\n",
    "        for epoch in range(num_epochs):\n",
    "            for batch_no,train_data in enumerate(dataloader,0):\n",
    "                train_data,train_labels=train_data[:,:-1],train_data[:,-1]\n",
    "                train_data=train_data.view(-1,1,train_data.size()[1])\n",
    "                outputs=model(train_data.double())\n",
    "                _optim.zero_grad()\n",
    "                loss_func=loss(outputs,train_labels.long())\n",
    "                loss_func.backward()\n",
    "                _optim.step()\n",
    "        print(\"Trial,\",trial)\n",
    "\n",
    "        report,labels=test_results(model.eval(),valloader,output_dict=True)\n",
    "        f1_score=0.0\n",
    "        for values in labels:\n",
    "            f1_score+=report[str(values)][\"f1-score\"]\n",
    "            #print(report[str(values)][\"f1-score\"])\n",
    "        if max_f1_score<(f1_score/(float(labels.shape[0]))):\n",
    "            max_f1_score=(f1_score/(float(labels.shape[0])))\n",
    "            best_model=model\n",
    "    return (best_model,loss,_optim),max_f1_score\n",
    "        \n",
    "\n",
    "\n",
    "model,score=get_best_model()\n",
    "#print(score)\n",
    "print(test_results(model[0].eval(),valloader)[0])"
   ]
  },
  {
   "cell_type": "code",
   "execution_count": 172,
   "metadata": {},
   "outputs": [
    {
     "name": "stdout",
     "output_type": "stream",
     "text": [
      "              precision    recall  f1-score   support\n",
      "\n",
      "         0.0       0.99      0.95      0.97     18118\n",
      "         1.0       0.39      0.80      0.53       556\n",
      "         2.0       0.93      0.84      0.88      1448\n",
      "         3.0       0.43      0.85      0.57       162\n",
      "         4.0       0.95      0.98      0.97      1608\n",
      "\n",
      "    accuracy                           0.94     21892\n",
      "   macro avg       0.74      0.88      0.78     21892\n",
      "weighted avg       0.96      0.94      0.95     21892\n",
      "\n"
     ]
    }
   ],
   "source": [
    "#Now let's early stop\n",
    "patience=5\n",
    "best_model,loss,_optim=model\n",
    "model=model[0]\n",
    "max_f1_score=score\n",
    "num_epochs=20\n",
    "improvement=0\n",
    "for epoch in range(num_epochs):\n",
    "    for batch_no,train_data in enumerate(dataloader,0):\n",
    "        train_data,train_labels=train_data[:,:-1],train_data[:,-1]\n",
    "        train_data=train_data.view(-1,1,train_data.size()[1])\n",
    "        outputs=model(train_data.double())\n",
    "        _optim.zero_grad()\n",
    "        loss_func=loss(outputs,train_labels.long())\n",
    "        loss_func.backward()\n",
    "        _optim.step()\n",
    "    \n",
    "    report,labels=test_results(model.eval(),valloader,output_dict=True)\n",
    "    f1_score=0.0\n",
    "    for values in labels:\n",
    "        f1_score+=report[str(values)][\"f1-score\"]\n",
    "\n",
    "    if max_f1_score<(f1_score/(float(labels.shape[0]))):\n",
    "        max_f1_score=(f1_score/(float(labels.shape[0])))\n",
    "        best_model=model\n",
    "        improvement=0\n",
    "    else:\n",
    "        improvement+=1\n",
    "        \n",
    "    if improvement==patience:\n",
    "        break\n",
    "\n",
    "report,_=test_results(best_model.eval(),testloader)\n",
    "print(report)"
   ]
  },
  {
   "cell_type": "code",
   "execution_count": 175,
   "metadata": {},
   "outputs": [],
   "source": [
    "PATH=\"best_cnn/no_aug.pt\"\n",
    "torch.save(model.state_dict(),PATH)"
   ]
  },
  {
   "cell_type": "code",
   "execution_count": 176,
   "metadata": {},
   "outputs": [
    {
     "name": "stdout",
     "output_type": "stream",
     "text": [
      "(1778, 188)\n",
      "(1778, 188)\n",
      "(1778, 188)\n",
      "(513, 188)\n",
      "(513, 188)\n",
      "(513, 188)\n",
      "(513, 188)\n",
      "(513, 188)\n",
      "(513, 188)\n",
      "Class 0 57977 Examples\n",
      "Class 1 7112 Examples\n",
      "Class 2 4630 Examples\n",
      "Class 3 3591 Examples\n",
      "Class 4 5145 Examples\n"
     ]
    },
    {
     "data": {
      "image/png": "[encoded data removed]",
      "text/plain": [
       "<Figure size 720x720 with 1 Axes>"
      ]
     },
     "metadata": {
      "needs_background": "light"
     },
     "output_type": "display_data"
    }
   ],
   "source": [
    "# Augment Classes belonging tp 1 and 3.\n",
    "\n",
    "classes_to_augment=[1.0,3.0]\n",
    "high_augmenters=[Reverse(),AddNoise(scale=0.01),AddNoise(scale=0.02),AddNoise(scale=0.03),AddNoise(0.04),AddNoise(scale=0.08)]\n",
    "                 \n",
    "#AddNoise(scale=0.5),AddNoise(scale=0.6),Pool(size=2,kind=\"ave\"),Pool(size=2,kind=\"max\"),Pool(size=2,kind=\"min\"),Drift(max_drift=(0.1,0.5)),Quantize(n_levels=20),Drift(max_drift=(0.1,0.2)),Drift(max_drift=(0.1,0.4))]\n",
    "low_augmenters=[Reverse(),AddNoise(scale=0.1),AddNoise(scale=0.2)]\n",
    "to_stack=[]\n",
    "for _class in classes_to_augment:\n",
    "    \n",
    "    indices=train_data_mit[:,-1]==_class\n",
    "    length=np.sum(indices)\n",
    "    if _class==3.0:\n",
    "        for aug in high_augmenters:\n",
    "            aug_val=aug.augment(train_data_mit[indices,:-1],train_data_mit[indices,:-1])\n",
    "            to_stack.append(np.append(aug_val[0],np.ones((aug_val[0].shape[0],1))*_class,axis=1))\n",
    "        \n",
    "        \n",
    "    if _class==1.0:\n",
    "        # A little Low\n",
    "        for aug in low_augmenters:\n",
    "            #print(type(train_data_mit))\n",
    "            #print()\n",
    "            #print(train_data_mit[indices,:-1].shape)\n",
    "            aug_val=aug.augment(train_data_mit[indices,:-1],train_data_mit[indices,:-1])\n",
    "            to_stack.append(np.append(aug_val[0],np.ones((aug_val[0].shape[0],1))*_class,axis=1))\n",
    "            \n",
    "#print(len(to_stack))\n",
    "for values in to_stack:\n",
    "    print(values.shape)\n",
    "    train_data_mit=np.vstack((train_data_mit,values))\n",
    "\n",
    "\n",
    "label_types = np.unique(train_data_mit[:,-1])\n",
    "examples_per_class=[]\n",
    "\n",
    "for values in label_types:\n",
    "    print(\"Class {0} {1} Examples\".format(int(values),np.sum(train_data_mit[:,-1]==values)))\n",
    "    examples_per_class.append(np.sum(train_data_mit[:,-1]==values))\n",
    "\n",
    "plot_examples(label_types,examples_per_class)"
   ]
  },
  {
   "cell_type": "code",
   "execution_count": 15,
   "metadata": {},
   "outputs": [],
   "source": [
    "def test_results(model,testloader,output_dict=False):\n",
    "    #model.eval()\n",
    "    model.eval()\n",
    "    with torch.no_grad():\n",
    "        all_preds=[]\n",
    "        all_labels=[]\n",
    "        for _,test_data in enumerate(testloader,0):\n",
    "            test_data,test_labels=test_data[:,:-1],test_data[:,-1]\n",
    "            test_data=test_data.view(-1,1,test_data.size()[1])\n",
    "            #print(test_data.size())\n",
    "            outputs=model(test_data.double())\n",
    "            _,pred=torch.max(outputs,1)\n",
    "            pred=pred.to(torch.double)\n",
    "            test_labels=test_labels.to(torch.double)\n",
    "            all_preds.extend(pred.tolist())\n",
    "            all_labels.extend(list(test_labels))\n",
    "        \n",
    "    report=classification_report(all_labels,all_preds,output_dict=output_dict)\n",
    "    return report,np.unique(all_labels)"
   ]
  },
  {
   "cell_type": "code",
   "execution_count": 177,
   "metadata": {},
   "outputs": [
    {
     "name": "stdout",
     "output_type": "stream",
     "text": [
      "Trial, 0\n",
      "Trial, 1\n",
      "Trial, 2\n",
      "Trial, 3\n",
      "Trial, 4\n",
      "0.8241340164970907\n",
      "              precision    recall  f1-score   support\n",
      "\n",
      "         0.0       0.99      0.95      0.97     14494\n",
      "         1.0       0.58      0.84      0.69       445\n",
      "         2.0       0.84      0.97      0.90      1158\n",
      "         3.0       0.50      0.78      0.61       128\n",
      "         4.0       0.92      0.99      0.95      1286\n",
      "\n",
      "    accuracy                           0.95     17511\n",
      "   macro avg       0.77      0.91      0.82     17511\n",
      "weighted avg       0.96      0.95      0.96     17511\n",
      "\n"
     ]
    }
   ],
   "source": [
    "torch.backends.cudnn.benchmark = False\n",
    "\n",
    "weights=(max(examples_per_class)*1.0)/torch.Tensor(examples_per_class)\n",
    "\n",
    "batch_size=512\n",
    "dataloader=DataLoader(train_data_mit,shuffle=True,batch_size=batch_size)\n",
    "testloader=DataLoader(test_data_mit,batch_size=batch_size)\n",
    "valloader=DataLoader(cv_data_mit,batch_size=cv_data_mit.shape[0])\n",
    "\n",
    "epochs=10\n",
    "\n",
    "def get_best_model(num_epochs=5,trials=5):\n",
    "    max_f1_score=float(\"-inf\")\n",
    "    best_model=None\n",
    "    for trial in range(trials):\n",
    "        model,loss,_optim=init(weights=weights.double())\n",
    "        model=model.double()\n",
    "        #print(loss.weights)\n",
    "        for epoch in range(num_epochs):\n",
    "            for batch_no,train_data in enumerate(dataloader,0):\n",
    "                train_data,train_labels=train_data[:,:-1],train_data[:,-1]\n",
    "                train_data=train_data.view(-1,1,train_data.size()[1])\n",
    "                outputs=model(train_data.double())\n",
    "                _optim.zero_grad()\n",
    "                loss_func=loss(outputs,train_labels.long())\n",
    "                loss_func.backward()\n",
    "                _optim.step()\n",
    "        print(\"Trial,\",trial)\n",
    "\n",
    "        report,labels=test_results(model.eval(),valloader,output_dict=True)\n",
    "        f1_score=0.0\n",
    "        for values in labels:\n",
    "            f1_score+=report[str(values)][\"f1-score\"]\n",
    "            #print(report[str(values)][\"f1-score\"])\n",
    "        if max_f1_score<(f1_score/(float(labels.shape[0]))):\n",
    "            max_f1_score=(f1_score/(float(labels.shape[0])))\n",
    "            best_model=model\n",
    "    return (best_model,loss,_optim),max_f1_score\n",
    "        \n",
    "\n",
    "\n",
    "model,score=get_best_model()\n",
    "print(score)\n",
    "print(test_results(model[0].eval(),valloader)[0])"
   ]
  },
  {
   "cell_type": "code",
   "execution_count": 181,
   "metadata": {},
   "outputs": [
    {
     "name": "stdout",
     "output_type": "stream",
     "text": [
      "CNN(\n",
      "  (conv1): Conv1d(1, 4, kernel_size=(3,), stride=(1,))\n",
      "  (bn1): BatchNorm1d(4, eps=1e-05, momentum=0.1, affine=True, track_running_stats=True)\n",
      "  (conv2): Conv1d(4, 16, kernel_size=(3,), stride=(1,))\n",
      "  (bn2): BatchNorm1d(16, eps=1e-05, momentum=0.1, affine=True, track_running_stats=True)\n",
      "  (conv3): Conv1d(16, 64, kernel_size=(3,), stride=(1,))\n",
      "  (bn3): BatchNorm1d(64, eps=1e-05, momentum=0.1, affine=True, track_running_stats=True)\n",
      "  (conv4): Conv1d(64, 128, kernel_size=(3,), stride=(1,))\n",
      "  (bn4): BatchNorm1d(128, eps=1e-05, momentum=0.1, affine=True, track_running_stats=True)\n",
      "  (fc1): Linear(in_features=1152, out_features=1152, bias=True)\n",
      "  (fc2): Linear(in_features=1152, out_features=5, bias=True)\n",
      ")\n"
     ]
    }
   ],
   "source": [
    "temp_storage=model\n",
    "print(temp_storage)\n",
    "#print(temp_storage[0].eval())"
   ]
  },
  {
   "cell_type": "code",
   "execution_count": 179,
   "metadata": {},
   "outputs": [
    {
     "name": "stdout",
     "output_type": "stream",
     "text": [
      "              precision    recall  f1-score   support\n",
      "\n",
      "         0.0       0.99      0.99      0.99     18118\n",
      "         1.0       0.87      0.76      0.81       556\n",
      "         2.0       0.97      0.92      0.94      1448\n",
      "         3.0       0.68      0.85      0.75       162\n",
      "         4.0       0.98      0.98      0.98      1608\n",
      "\n",
      "    accuracy                           0.98     21892\n",
      "   macro avg       0.90      0.90      0.90     21892\n",
      "weighted avg       0.98      0.98      0.98     21892\n",
      "\n"
     ]
    }
   ],
   "source": [
    "#Now let's early stop\n",
    "patience=5\n",
    "best_model,loss,_optim=model\n",
    "model=model[0]\n",
    "max_f1_score=score\n",
    "num_epochs=20\n",
    "improvement=0\n",
    "for epoch in range(num_epochs):\n",
    "    model.train()\n",
    "    for batch_no,train_data in enumerate(dataloader,0):\n",
    "        train_data,train_labels=train_data[:,:-1],train_data[:,-1]\n",
    "        train_data=train_data.view(-1,1,train_data.size()[1])\n",
    "        outputs=model(train_data.double())\n",
    "        _optim.zero_grad()\n",
    "        loss_func=loss(outputs,train_labels.long())\n",
    "        loss_func.backward()\n",
    "        _optim.step()\n",
    "    \n",
    "    report,labels=test_results(model.eval(),valloader,output_dict=True)\n",
    "    f1_score=0.0\n",
    "    for values in labels:\n",
    "        f1_score+=report[str(values)][\"f1-score\"]\n",
    "\n",
    "    if max_f1_score<(f1_score/(float(labels.shape[0]))):\n",
    "        max_f1_score=(f1_score/(float(labels.shape[0])))\n",
    "        best_model=model\n",
    "        improvement=0\n",
    "    else:\n",
    "        improvement+=1\n",
    "        \n",
    "    if improvement==patience:\n",
    "        break\n",
    "\n",
    "report,_=test_results(best_model,testloader)\n",
    "print(report)"
   ]
  },
  {
   "cell_type": "code",
   "execution_count": 180,
   "metadata": {},
   "outputs": [
    {
     "name": "stdout",
     "output_type": "stream",
     "text": [
      "16\n",
      "              precision    recall  f1-score   support\n",
      "\n",
      "         0.0       0.99      0.99      0.99     14494\n",
      "         1.0       0.88      0.78      0.82       445\n",
      "         2.0       0.97      0.92      0.94      1158\n",
      "         3.0       0.72      0.84      0.78       128\n",
      "         4.0       0.98      0.98      0.98      1286\n",
      "\n",
      "    accuracy                           0.98     17511\n",
      "   macro avg       0.91      0.90      0.90     17511\n",
      "weighted avg       0.98      0.98      0.98     17511\n",
      "\n",
      "0.9125846495089389\n"
     ]
    }
   ],
   "source": [
    "print(epoch)\n",
    "report,_=test_results(best_model,valloader)\n",
    "print(report)\n",
    "print(max_f1_score)"
   ]
  },
  {
   "cell_type": "code",
   "execution_count": 44,
   "metadata": {},
   "outputs": [],
   "source": [
    "def save_model(model,PATH):\n",
    "    torch.save(model.state_dict(),PATH)"
   ]
  },
  {
   "cell_type": "code",
   "execution_count": 45,
   "metadata": {},
   "outputs": [],
   "source": [
    "def load_and_return(model,path):\n",
    "    model=CNN()\n",
    "    model.load_state_dict(torch.load(path))\n",
    "    return model\n",
    "aug_model=load_and_return(CNN(),\"best_cnn/best_5_class_model.pt\")\n",
    "no_aug_model = load_and_return(CNN(),\"best_cnn/no_aug.pt\")"
   ]
  },
  {
   "cell_type": "code",
   "execution_count": 63,
   "metadata": {},
   "outputs": [
    {
     "name": "stdout",
     "output_type": "stream",
     "text": [
      "Class 0 4046 Examples\n",
      "Class 1 10506 Examples\n"
     ]
    },
    {
     "data": {
      "image/png": "[encoded data removed]",
      "text/plain": [
       "<Figure size 720x720 with 1 Axes>"
      ]
     },
     "metadata": {
      "needs_background": "light"
     },
     "output_type": "display_data"
    }
   ],
   "source": [
    "train_data_ab = np.genfromtxt('ptbdb_abnormal.csv', delimiter=',')\n",
    "train_data_normal = np.genfromtxt('ptbdb_normal.csv', delimiter=',')\n",
    "label_types = [0,1]\n",
    "examples_per_class=[train_data_normal.shape[0],train_data_ab.shape[0]]\n",
    "\n",
    "for indx,values in enumerate(label_types):\n",
    "    print(\"Class {0} {1} Examples\".format(int(values),examples_per_class[indx]))\n",
    "\n",
    "plot_examples(label_types,examples_per_class,file_name='ptdb.png')\n",
    "\n",
    "train_data=np.append(train_data_ab,train_data_normal,axis=0)\n",
    "#np.random.shuffle(train_data)\n",
    "assert train_data.shape[0]==sum(examples_per_class)\n",
    "\n",
    "train_data,train_labels=train_data[:,:-1],train_data[:,-1]"
   ]
  },
  {
   "cell_type": "code",
   "execution_count": 64,
   "metadata": {},
   "outputs": [],
   "source": [
    "batch_size=512\n",
    "ptb_train_loader=DataLoader(train_data,batch_size=batch_size)\n",
    "extracted_features=[]\n",
    "models=[aug_model,no_aug_model]\n",
    "aug_features=[]\n",
    "for model in models:\n",
    "    data_feat=None\n",
    "    for _,values in enumerate(ptb_train_loader,0):\n",
    "        aug_model.eval()\n",
    "        aug_model.double()\n",
    "        values=values.view(-1,1,values.size()[-1])\n",
    "        with torch.no_grad():\n",
    "            model.eval()\n",
    "            feats=aug_model.feature_extract(values)\n",
    "            if data_feat is None:\n",
    "                data_feat=np.array(feats.numpy())\n",
    "            else:\n",
    "                data_feat=np.vstack((data_feat,feats.numpy()))\n",
    "    aug_features.append(data_feat)\n",
    "aug_data_feats,no_aug_feats=aug_features[0],aug_features[1]"
   ]
  },
  {
   "cell_type": "code",
   "execution_count": 65,
   "metadata": {},
   "outputs": [],
   "source": [
    "def test_train_split(X,Y,random_state=1,split=0.8):\n",
    "    return train_test_split(X,Y,train_size=split,stratify=Y)\n",
    "\n",
    "aug_data,aug_test_data,aug_train_labels,aug_test_labels=test_train_split(aug_data_feats,train_labels)"
   ]
  },
  {
   "cell_type": "code",
   "execution_count": 72,
   "metadata": {},
   "outputs": [
    {
     "name": "stdout",
     "output_type": "stream",
     "text": [
      "0.7763088740650899\n",
      "              precision    recall  f1-score   support\n",
      "\n",
      "         0.0       0.56      0.83      0.67       809\n",
      "         1.0       0.92      0.75      0.83      2102\n",
      "\n",
      "    accuracy                           0.77      2911\n",
      "   macro avg       0.74      0.79      0.75      2911\n",
      "weighted avg       0.82      0.77      0.78      2911\n",
      "\n"
     ]
    }
   ],
   "source": [
    "def gaussian_nb(train_data,train_labels):\n",
    "    validator=StratifiedKFold(n_splits=5,random_state=0,shuffle=True)\n",
    "    gnb=GaussianNB()\n",
    "    score=cross_val_score(gnb,train_data,train_labels,cv=validator)\n",
    "    score=sum(score)/score.shape[0]\n",
    "    gnb.fit(train_data,train_labels)\n",
    "    return score,gnb,\"Gaussian Naive Bayes\"\n",
    "\n",
    "print(score)\n",
    "score,clf,name=gaussian_nb(aug_data,aug_train_labels)\n",
    "pred=clf.predict(aug_test_data)\n",
    "print(classification_report(aug_test_labels,pred))"
   ]
  },
  {
   "cell_type": "code",
   "execution_count": 69,
   "metadata": {},
   "outputs": [
    {
     "name": "stdout",
     "output_type": "stream",
     "text": [
      "max_depth,score 15 0.9520114125572443\n",
      "              precision    recall  f1-score   support\n",
      "\n",
      "         0.0       0.89      0.90      0.89       809\n",
      "         1.0       0.96      0.96      0.96      2102\n",
      "\n",
      "    accuracy                           0.94      2911\n",
      "   macro avg       0.93      0.93      0.93      2911\n",
      "weighted avg       0.94      0.94      0.94      2911\n",
      "\n"
     ]
    }
   ],
   "source": [
    "def tune_hyper_params_dt(train_data,train_labels):\n",
    "    diff_depths=[3,5,7,9,12,15,18,None]\n",
    "    max_depth_sol=None\n",
    "    max_f1_score=float(\"-inf\")\n",
    "    for values in diff_depths:\n",
    "        #print(values)\n",
    "        validator=StratifiedKFold(n_splits=5,random_state=0,shuffle=True)\n",
    "        clf = tree.DecisionTreeClassifier(max_depth=values,random_state=0)\n",
    "        score=cross_val_score(clf,train_data,train_labels,scoring='f1',cv=validator)\n",
    "        score=sum(score)/len(score)\n",
    "        if score>max_f1_score:\n",
    "            max_depth_sol=values\n",
    "            max_f1_score=score\n",
    "    return max_f1_score,max_depth_sol    \n",
    "        \n",
    "    \n",
    "def train_decision_tree(train_data,train_labels):\n",
    "    score,max_depth=tune_hyper_params_dt(train_data,train_labels)\n",
    "    clf=tree.DecisionTreeClassifier(random_state=0,max_depth=max_depth)\n",
    "    clf.fit(train_data,train_labels)\n",
    "    print(\"max_depth,score\",max_depth,score)\n",
    "    return score,clf,\"Decision Tree\"\n",
    "\n",
    "score,clf,name=train_decision_tree(aug_data,aug_train_labels)\n",
    "pred=clf.predict(aug_test_data)\n",
    "print(classification_report(aug_test_labels,pred))"
   ]
  },
  {
   "cell_type": "code",
   "execution_count": 74,
   "metadata": {},
   "outputs": [
    {
     "name": "stdout",
     "output_type": "stream",
     "text": [
      "best_kernel:rbf f1_score:0.9940611446457133 C-Values:16\n",
      "              precision    recall  f1-score   support\n",
      "\n",
      "         0.0       0.99      0.99      0.99       809\n",
      "         1.0       0.99      1.00      1.00      2102\n",
      "\n",
      "    accuracy                           0.99      2911\n",
      "   macro avg       0.99      0.99      0.99      2911\n",
      "weighted avg       0.99      0.99      0.99      2911\n",
      "\n"
     ]
    }
   ],
   "source": [
    "def best_model(train_data,train_labels):\n",
    "    models = ['linear', 'rbf', 'poly', 'sigmoid']\n",
    "    C_VALS=[1,4,16,64,100]\n",
    "    best_kernel = None\n",
    "    max_f1_score=float(\"-inf\")\n",
    "    best_c_value=None\n",
    "    for kernel in models:\n",
    "        #print(\"Kernel\",kernel)\n",
    "        for values in C_VALS:\n",
    "            #print(\"C value\",values)\n",
    "            validator=StratifiedKFold(n_splits=5,random_state=0,shuffle=True)\n",
    "            clf = svm.SVC(kernel = kernel,gamma='scale',C=values)\n",
    "            score=cross_val_score(clf,train_data,train_labels,scoring='f1',cv=validator)\n",
    "            score=sum(score)/len(score)\n",
    "            if score>max_f1_score:\n",
    "                best_kernel = kernel\n",
    "                max_f1_score = score\n",
    "                best_c_value=values\n",
    "    return best_kernel,max_f1_score,best_c_value\n",
    "\n",
    "# training the model using best kernel\n",
    "def train_svm(train_data,train_labels):\n",
    "    best_kernel,f1_score,best_c_value = best_model(train_data, train_labels)\n",
    "    print(\"best_kernel:{0} f1_score:{1} C-Values:{2}\".format(best_kernel, f1_score, best_c_value))\n",
    "    clf = svm.SVC(kernel = best_kernel,gamma='scale',C=best_c_value)\n",
    "    classifier = clf.fit(train_data,train_labels)\n",
    "    return f1_score,classifier,\"SVM with {0} Kernel\".format(best_kernel)\n",
    "\n",
    "score,clf,_ = train_svm(aug_data,aug_train_labels)\n",
    "pred = clf.predict(aug_test_data)\n",
    "report=classification_report(aug_test_labels,pred)\n",
    "print(report)"
   ]
  },
  {
   "cell_type": "code",
   "execution_count": 75,
   "metadata": {},
   "outputs": [
    {
     "name": "stdout",
     "output_type": "stream",
     "text": [
      "SVM Score 0.9940611446457133\n"
     ]
    }
   ],
   "source": [
    "print(\"SVM Score\",score)"
   ]
  },
  {
   "cell_type": "code",
   "execution_count": 76,
   "metadata": {},
   "outputs": [],
   "source": [
    "no_aug_train,no_aug_test,no_aug_train_labels,no_aug_test_labels=test_train_split(no_aug_feats,train_labels)"
   ]
  },
  {
   "cell_type": "code",
   "execution_count": 80,
   "metadata": {},
   "outputs": [
    {
     "name": "stdout",
     "output_type": "stream",
     "text": [
      "0.775190264984013\n",
      "              precision    recall  f1-score   support\n",
      "\n",
      "         0.0       0.56      0.83      0.67       809\n",
      "         1.0       0.92      0.74      0.82      2102\n",
      "\n",
      "    accuracy                           0.77      2911\n",
      "   macro avg       0.74      0.79      0.74      2911\n",
      "weighted avg       0.82      0.77      0.78      2911\n",
      "\n"
     ]
    }
   ],
   "source": [
    "score,clf,name=gaussian_nb(no_aug_train,no_aug_train_labels)\n",
    "pred=clf.predict(no_aug_test)\n",
    "print(score)\n",
    "print(classification_report(no_aug_test_labels,pred))"
   ]
  },
  {
   "cell_type": "code",
   "execution_count": 81,
   "metadata": {},
   "outputs": [
    {
     "name": "stdout",
     "output_type": "stream",
     "text": [
      "max_depth,score 18 0.953692722598802\n",
      "0.953692722598802\n",
      "              precision    recall  f1-score   support\n",
      "\n",
      "         0.0       0.87      0.89      0.88       809\n",
      "         1.0       0.96      0.95      0.95      2102\n",
      "\n",
      "    accuracy                           0.93      2911\n",
      "   macro avg       0.91      0.92      0.92      2911\n",
      "weighted avg       0.93      0.93      0.93      2911\n",
      "\n"
     ]
    }
   ],
   "source": [
    "score,clf,name=train_decision_tree(no_aug_train,no_aug_train_labels)\n",
    "pred=clf.predict(no_aug_test)\n",
    "print(score)\n",
    "print(classification_report(no_aug_test_labels,pred))"
   ]
  },
  {
   "cell_type": "code",
   "execution_count": 82,
   "metadata": {},
   "outputs": [
    {
     "name": "stdout",
     "output_type": "stream",
     "text": [
      "best_kernel:rbf f1_score:0.994648935986133 C-Values:16\n",
      "0.994648935986133\n",
      "              precision    recall  f1-score   support\n",
      "\n",
      "         0.0       0.98      0.99      0.98       809\n",
      "         1.0       0.99      0.99      0.99      2102\n",
      "\n",
      "    accuracy                           0.99      2911\n",
      "   macro avg       0.99      0.99      0.99      2911\n",
      "weighted avg       0.99      0.99      0.99      2911\n",
      "\n"
     ]
    }
   ],
   "source": [
    "score,clf,_ = train_svm(no_aug_train,no_aug_train_labels)\n",
    "pred=clf.predict(no_aug_test)\n",
    "print(score)\n",
    "print(classification_report(no_aug_test_labels,pred))"
   ]
  },
  {
   "cell_type": "code",
   "execution_count": null,
   "metadata": {},
   "outputs": [],
   "source": []
  }
 ],
 "metadata": {
  "kernelspec": {
   "display_name": "Python 3",
   "language": "python",
   "name": "python3"
  },
  "language_info": {
   "codemirror_mode": {
    "name": "ipython",
    "version": 3
   },
   "file_extension": ".py",
   "mimetype": "text/x-python",
   "name": "python",
   "nbconvert_exporter": "python",
   "pygments_lexer": "ipython3",
   "version": "3.8.0"
  }
 },
 "nbformat": 4,
 "nbformat_minor": 4
}
