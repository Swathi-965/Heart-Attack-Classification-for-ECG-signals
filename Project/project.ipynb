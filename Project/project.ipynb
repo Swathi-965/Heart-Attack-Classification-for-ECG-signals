{
 "cells": [
  {
   "cell_type": "code",
   "execution_count": 1,
   "metadata": {},
   "outputs": [],
   "source": [
    "import subprocess\n",
    "import os\n",
    "import numpy as np\n",
    "import matplotlib.pyplot as plt\n",
    "from sklearn.model_selection import train_test_split,StratifiedKFold,cross_val_score\n",
    "from sklearn.naive_bayes import GaussianNB\n",
    "from sklearn import tree\n",
    "from sklearn.metrics import classification_report\n",
    "# from imblearn.over_sampling import RandomOverSampler,BorderlineSMOTE,KMeansSMOTE,SVMSMOTE,SMOTE,ADASYN\n",
    "# from imblearn.pipeline import make_pipeline\n",
    "from keras.models import Sequential\n",
    "from keras.layers import Reshape\n",
    "from keras.layers import Dense, Flatten, Conv1D, MaxPooling1D\n",
    "from sklearn import svm\n",
    "from sklearn.svm import SVC\n",
    "import torch.nn as nn\n",
    "import torch.nn.functional as F\n",
    "import torch\n",
    "import torch.optim as optim\n",
    "from torch.utils.data import DataLoader\n",
    "torch.manual_seed(1)\n",
    "torch.set_deterministic(True)"
   ]
  },
  {
   "cell_type": "code",
   "execution_count": 2,
   "metadata": {},
   "outputs": [
    {
     "name": "stdout",
     "output_type": "stream",
     "text": [
      "Download Complete\n"
     ]
    }
   ],
   "source": [
    "def download_dataset():\n",
    "    dataset = \"shayanfazeli/heartbeat\"\n",
    "    cur_dir = os.path.dirname(os.path.abspath(\"__file__\"))\n",
    "    file_name = cur_dir+\"/heartbeat.zip\"\n",
    "    if not os.path.isfile(file_name):\n",
    "        #download the dataset\n",
    "        subprocess.run(\"kaggle datasets download -d shayanfazeli/heartbeat\".split(\" \"),stdout=subprocess.PIPE,stderr=subprocess.PIPE)\n",
    "        indx=file_name.find(\".zip\")\n",
    "        subprocess.run([\"unzip\",file_name[:indx]],stderr=subprocess.PIPE,stdout=subprocess.PIPE)\n",
    "    print(\"Download Complete\")\n",
    "download_dataset()"
   ]
  },
  {
   "cell_type": "code",
   "execution_count": 3,
   "metadata": {},
   "outputs": [],
   "source": [
    "def plot_examples(labels,counts,file_name='mitdb.png'):\n",
    "    x = np.arange(len(labels))  # the label locations\n",
    "    width = 0.35  # the width of the bars\n",
    "\n",
    "    fig, ax = plt.subplots()\n",
    "    rects1 = ax.bar(x, counts, width, label='Class Distribution')\n",
    "    # Add some text for labels, title and custom x-axis tick labels, etc.\n",
    "    ax.set_ylabel('Counts',fontsize=22)\n",
    "    ax.set_title('Classes',fontsize=22)\n",
    "    ax.set_xticks(x)\n",
    "    \n",
    "    \n",
    "\n",
    "\n",
    "    def autolabel(rects):\n",
    "        \"\"\"Attach a text label above each bar in *rects*, displaying its height.\"\"\"\n",
    "        for indx,rect in enumerate(rects):\n",
    "            height = counts[indx]\n",
    "            ax.annotate('{}'.format(height),\n",
    "                        xy=(rect.get_x() + rect.get_width() / 2, height),\n",
    "                        xytext=(0, 3),  # 3 points vertical offset\n",
    "                        textcoords=\"offset points\",\n",
    "                        ha='center', va='bottom',fontsize=22)\n",
    "\n",
    "\n",
    "    autolabel(rects1)\n",
    "\n",
    "    fig.tight_layout()\n",
    "    fig = plt.gcf()\n",
    "    fig.set_size_inches(10, 10)\n",
    "    plt.xticks(fontsize=15)\n",
    "    plt.yticks(fontsize=15)\n",
    "    plt.savefig(file_name)\n",
    "    #plt.show()"
   ]
  },
  {
   "cell_type": "code",
   "execution_count": 4,
   "metadata": {},
   "outputs": [
    {
     "name": "stdout",
     "output_type": "stream",
     "text": [
      "Class 0 4046 Examples\n",
      "Class 1 10506 Examples\n"
     ]
    },
    {
     "data": {
      "text/plain": [
       "(14552,)"
      ]
     },
     "execution_count": 4,
     "metadata": {},
     "output_type": "execute_result"
    },
    {
     "data": {
      "image/png": "[encoded data removed]",
      "text/plain": [
       "<Figure size 720x720 with 1 Axes>"
      ]
     },
     "metadata": {
      "needs_background": "light"
     },
     "output_type": "display_data"
    }
   ],
   "source": [
    "train_data_ab = np.genfromtxt('ptbdb_abnormal.csv', delimiter=',')\n",
    "train_data_normal = np.genfromtxt('ptbdb_normal.csv', delimiter=',')\n",
    "label_types = [0,1]\n",
    "examples_per_class=[train_data_normal.shape[0],train_data_ab.shape[0]]\n",
    "\n",
    "for indx,values in enumerate(label_types):\n",
    "    print(\"Class {0} {1} Examples\".format(int(values),examples_per_class[indx]))\n",
    "\n",
    "plot_examples(label_types,examples_per_class,file_name='ptdb.png')\n",
    "\n",
    "train_data=np.append(train_data_ab,train_data_normal,axis=0)\n",
    "#np.random.shuffle(train_data)\n",
    "assert train_data.shape[0]==sum(examples_per_class)\n",
    "\n",
    "train_data,train_labels=train_data[:,:-1],train_data[:,-1]\n",
    "train_labels.shape"
   ]
  },
  {
   "cell_type": "code",
   "execution_count": 5,
   "metadata": {},
   "outputs": [],
   "source": [
    "def test_train_split(X,Y,random_state=1,split=0.8):\n",
    "    return train_test_split(X,Y,train_size=split,stratify=Y)\n",
    "\n",
    "train_data,test_data,train_labels,test_labels=test_train_split(train_data,train_labels)\n",
    "test_labels=test_labels.astype('int32')\n",
    "train_labels=train_labels.astype('int32')"
   ]
  },
  {
   "cell_type": "code",
   "execution_count": 6,
   "metadata": {},
   "outputs": [
    {
     "name": "stdout",
     "output_type": "stream",
     "text": [
      "              precision    recall  f1-score   support\n",
      "\n",
      "           0       0.41      0.85      0.55       809\n",
      "           1       0.90      0.53      0.67      2102\n",
      "\n",
      "    accuracy                           0.62      2911\n",
      "   macro avg       0.66      0.69      0.61      2911\n",
      "weighted avg       0.76      0.62      0.64      2911\n",
      "\n"
     ]
    }
   ],
   "source": [
    "def get_priors(y):\n",
    "    num_classes=np.unique(y)\n",
    "    \n",
    "    priors=[]\n",
    "    for values in num_classes:\n",
    "        priors.append(np.sum(y==values)/y.shape[0])\n",
    "    return priors\n",
    "        \n",
    "#A wrapper class to be passed into sklearn pipeline\n",
    "class NBWrapper:\n",
    "    def __init__(self):\n",
    "        self.gnb=None\n",
    "    def fit(self,train_data,train_labels):\n",
    "        self.gnb=GaussianNB()\n",
    "        self.gnb.fit(train_data,train_labels)\n",
    "    def predict(self,test_data):\n",
    "        assert self.gnb!=None\n",
    "        return self.gnb.predict(test_data)\n",
    "    def report_accuracy(self,truth,pred):\n",
    "        return classification_report(truth,pred)\n",
    "    def do_everything(self,test_data,test_labels):\n",
    "        pred=self.predict(test_data)\n",
    "        return self.report_accuracy(test_labels,pred)\n",
    "    def transform(self):\n",
    "        raise NotImplementedError\n",
    "\n",
    "def gaussian_nb(train_data,train_labels):\n",
    "    validator=StratifiedKFold(n_splits=5,random_state=0,shuffle=True)\n",
    "    gnb=GaussianNB()\n",
    "    score=cross_val_score(gnb,train_data,train_labels,cv=validator)\n",
    "    score=sum(score)/score.shape[0]\n",
    "    gnb.fit(train_data,train_labels)\n",
    "    return score,gnb,\"Gaussian Naive Bayes\"\n",
    "\n",
    "\n",
    "score,clf,name=gaussian_nb(train_data,train_labels)\n",
    "pred=clf.predict(test_data)\n",
    "print(classification_report(test_labels,pred))"
   ]
  },
  {
   "cell_type": "code",
   "execution_count": null,
   "metadata": {},
   "outputs": [],
   "source": [
    "\n",
    "\"\"\"\n",
    "Come back later\n",
    "def apply_imbalanced_learn(wrapper):\n",
    "    #resample everything but the majority class\n",
    "    samplers=[RandomOverSampler(random_state=0),SMOTE(random_state=0),ADASYN(random_state=0),BorderlineSMOTE(random_state=0),KMeansSMOTE(random_state=0),SVMSMOTE(random_state=0)]\n",
    "    for sampler in samplers:\n",
    "        #sampler.fit()\n",
    "        pipe=make_pipeline(sampler,wrapper)\n",
    "        pipe.fit(train_data,train_labels)\n",
    "        report=wrapper.do_everything(test_data,test_labels)\n",
    "        print(report)\n",
    "        \n",
    "apply_imbalanced_learn(NBWrapper())\n",
    "\"\"\""
   ]
  },
  {
   "cell_type": "code",
   "execution_count": 9,
   "metadata": {},
   "outputs": [
    {
     "name": "stdout",
     "output_type": "stream",
     "text": [
      "max_depth,score None 0.9383256707946567\n",
      "              precision    recall  f1-score   support\n",
      "\n",
      "           0       0.85      0.87      0.86       809\n",
      "           1       0.95      0.94      0.95      2102\n",
      "\n",
      "    accuracy                           0.92      2911\n",
      "   macro avg       0.90      0.91      0.90      2911\n",
      "weighted avg       0.92      0.92      0.92      2911\n",
      "\n"
     ]
    }
   ],
   "source": [
    "def tune_hyper_params_dt(train_data,train_labels):\n",
    "    diff_depths=[3,5,7,9,12,15,18,None]\n",
    "    max_depth_sol=None\n",
    "    max_f1_score=float(\"-inf\")\n",
    "    for values in diff_depths:\n",
    "        #print(values)\n",
    "        validator=StratifiedKFold(n_splits=5,random_state=0,shuffle=True)\n",
    "        clf = tree.DecisionTreeClassifier(max_depth=values,random_state=0)\n",
    "        score=cross_val_score(clf,train_data,train_labels,scoring='f1',cv=validator)\n",
    "        score=sum(score)/len(score)\n",
    "        if score>max_f1_score:\n",
    "            max_depth_sol=values\n",
    "            max_f1_score=score\n",
    "    return max_f1_score,max_depth_sol    \n",
    "        \n",
    "    \n",
    "def train_decision_tree(train_data,train_labels):\n",
    "    score,max_depth=tune_hyper_params_dt(train_data,train_labels)\n",
    "    clf=tree.DecisionTreeClassifier(random_state=0,max_depth=max_depth)\n",
    "    clf.fit(train_data,train_labels)\n",
    "    print(\"max_depth,score\",max_depth,score)\n",
    "    return score,clf,\"Decision Tree\"\n",
    " \n",
    "score,clf,name=train_decision_tree(train_data,train_labels)\n",
    "pred=clf.predict(test_data)\n",
    "report=classification_report(test_labels,pred)\n",
    "print(report)"
   ]
  },
  {
   "cell_type": "code",
   "execution_count": 57,
   "metadata": {},
   "outputs": [
    {
     "data": {
      "text/plain": [
       "'\\n_,clf,_ = train_svm(train_data,train_labels)\\npred = clf.predict(test_data)\\nreport=classification_report(test_labels,pred)\\nprint(report)\\n'"
      ]
     },
     "execution_count": 57,
     "metadata": {},
     "output_type": "execute_result"
    }
   ],
   "source": [
    "#  Note this takes a while to finish\n",
    "# selecting best kernel\n",
    "def best_model(train_data,train_labels):\n",
    "    models = ['linear', 'rbf', 'poly', 'sigmoid']\n",
    "    C_VALS=[1,4,16,64,100]\n",
    "    best_kernel = None\n",
    "    max_f1_score=float(\"-inf\")\n",
    "    best_c_value=None\n",
    "    for kernel in models:\n",
    "        #print(\"Kernel\",kernel)\n",
    "        for values in C_VALS:\n",
    "            #print(\"C value\",values)\n",
    "            validator=StratifiedKFold(n_splits=5,random_state=0,shuffle=True)\n",
    "            clf = svm.SVC(kernel = kernel,gamma='scale',C=values)\n",
    "            score=cross_val_score(clf,train_data,train_labels,scoring='f1',cv=validator)\n",
    "            score=sum(score)/len(score)\n",
    "            if score>max_f1_score:\n",
    "                best_kernel = kernel\n",
    "                max_f1_score = score\n",
    "                best_c_value=values\n",
    "    return best_kernel,max_f1_score,best_c_value\n",
    "\n",
    "# training the model using best kernel\n",
    "def train_svm(train_data,train_labels):\n",
    "    best_kernel,f1_score,best_c_value = best_model(train_data, train_labels)\n",
    "    print(\"best_kernel:{0} f1_score:{1} C-Values:{2}\".format(best_kernel, f1_score, best_c_value))\n",
    "    clf = svm.SVC(kernel = best_kernel,gamma='scale',C=best_c_value)\n",
    "    classifier = clf.fit(train_data,train_labels)\n",
    "    return f1_score,classifier,\"SVM with {0} Kernel\".format(best_kernel)\n",
    "\n",
    "\n",
    "#clf = svm.SVC(kernel = \"rbf\",gamma='scale',C=100)\n",
    "#classifier = clf.fit(train_data,train_labels)\n",
    "\n",
    "\"\"\"\n",
    "_,clf,_ = train_svm(train_data,train_labels)\n",
    "pred = clf.predict(test_data)\n",
    "report=classification_report(test_labels,pred)\n",
    "print(report)\n",
    "\"\"\""
   ]
  },
  {
   "cell_type": "code",
   "execution_count": 25,
   "metadata": {},
   "outputs": [
    {
     "name": "stdout",
     "output_type": "stream",
     "text": [
      "Epoch 1/20\n",
      "342/342 [==============================] - 6s 18ms/step - loss: 0.3866 - accuracy: 0.8125 - val_loss: 0.3159 - val_accuracy: 0.8851\n",
      "Epoch 2/20\n",
      "342/342 [==============================] - 6s 18ms/step - loss: 0.2778 - accuracy: 0.8835 - val_loss: 0.2373 - val_accuracy: 0.9175\n",
      "Epoch 3/20\n",
      "342/342 [==============================] - 6s 17ms/step - loss: 0.2025 - accuracy: 0.9184 - val_loss: 0.1620 - val_accuracy: 0.9461\n",
      "Epoch 4/20\n",
      "342/342 [==============================] - 6s 19ms/step - loss: 0.1534 - accuracy: 0.9428 - val_loss: 0.1514 - val_accuracy: 0.9439\n",
      "Epoch 5/20\n",
      "342/342 [==============================] - 6s 17ms/step - loss: 0.1389 - accuracy: 0.9493 - val_loss: 0.1248 - val_accuracy: 0.9610\n",
      "Epoch 6/20\n",
      "342/342 [==============================] - 6s 19ms/step - loss: 0.1102 - accuracy: 0.9570 - val_loss: 0.1074 - val_accuracy: 0.9621\n",
      "Epoch 7/20\n",
      "342/342 [==============================] - 6s 17ms/step - loss: 0.1043 - accuracy: 0.9612 - val_loss: 0.1055 - val_accuracy: 0.9676\n",
      "Epoch 8/20\n",
      "342/342 [==============================] - 6s 16ms/step - loss: 0.0936 - accuracy: 0.9650 - val_loss: 0.1012 - val_accuracy: 0.9662\n",
      "Epoch 9/20\n",
      "342/342 [==============================] - 6s 16ms/step - loss: 0.0737 - accuracy: 0.9739 - val_loss: 0.0804 - val_accuracy: 0.9747\n",
      "Epoch 10/20\n",
      "342/342 [==============================] - 6s 16ms/step - loss: 0.0620 - accuracy: 0.9770 - val_loss: 0.0726 - val_accuracy: 0.9753\n",
      "Epoch 11/20\n",
      "342/342 [==============================] - 6s 17ms/step - loss: 0.0564 - accuracy: 0.9806 - val_loss: 0.0681 - val_accuracy: 0.9786\n",
      "Epoch 12/20\n",
      "342/342 [==============================] - 6s 16ms/step - loss: 0.0457 - accuracy: 0.9844 - val_loss: 0.0778 - val_accuracy: 0.9720\n",
      "Epoch 13/20\n",
      "342/342 [==============================] - 6s 16ms/step - loss: 0.0440 - accuracy: 0.9837 - val_loss: 0.0603 - val_accuracy: 0.9799\n",
      "Epoch 14/20\n",
      "342/342 [==============================] - 6s 16ms/step - loss: 0.0347 - accuracy: 0.9871 - val_loss: 0.0508 - val_accuracy: 0.9835\n",
      "Epoch 15/20\n",
      "342/342 [==============================] - 6s 17ms/step - loss: 0.0413 - accuracy: 0.9854 - val_loss: 0.1426 - val_accuracy: 0.9467\n",
      "Epoch 16/20\n",
      "342/342 [==============================] - 6s 17ms/step - loss: 0.0307 - accuracy: 0.9896 - val_loss: 0.0462 - val_accuracy: 0.9854\n",
      "Epoch 17/20\n",
      "342/342 [==============================] - 6s 17ms/step - loss: 0.0347 - accuracy: 0.9881 - val_loss: 0.0597 - val_accuracy: 0.9810\n",
      "Epoch 18/20\n",
      "342/342 [==============================] - 6s 18ms/step - loss: 0.0240 - accuracy: 0.9919 - val_loss: 0.0535 - val_accuracy: 0.9788\n",
      "Epoch 19/20\n",
      "342/342 [==============================] - 6s 18ms/step - loss: 0.0289 - accuracy: 0.9903 - val_loss: 0.0501 - val_accuracy: 0.9838\n",
      "Epoch 20/20\n",
      "342/342 [==============================] - 6s 17ms/step - loss: 0.0303 - accuracy: 0.9894 - val_loss: 0.0448 - val_accuracy: 0.9854\n",
      "91/91 [==============================] - 0s 4ms/step - loss: 0.0268 - accuracy: 0.9928\n",
      "\n",
      "\n",
      "accuracy for test_data [0.026784604415297508, 0.9927859902381897]\n",
      "WARNING:tensorflow:From <ipython-input-25-2e8a036f3836>:36: Sequential.predict_classes (from tensorflow.python.keras.engine.sequential) is deprecated and will be removed after 2021-01-01.\n",
      "Instructions for updating:\n",
      "Please use instead:* `np.argmax(model.predict(x), axis=-1)`,   if your model does multi-class classification   (e.g. if it uses a `softmax` last-layer activation).* `(model.predict(x) > 0.5).astype(\"int32\")`,   if your model does binary classification   (e.g. if it uses a `sigmoid` last-layer activation).\n",
      "\n",
      "\n",
      "              precision    recall  f1-score   support\n",
      "\n",
      "           0       0.99      0.99      0.99       809\n",
      "           1       1.00      0.99      1.00      2102\n",
      "\n",
      "    accuracy                           0.99      2911\n",
      "   macro avg       0.99      0.99      0.99      2911\n",
      "weighted avg       0.99      0.99      0.99      2911\n",
      "\n"
     ]
    }
   ],
   "source": [
    "def cnn_model(train_data,test_data,train_labels,test_labels,epochs,batch_size):\n",
    "    \n",
    "    train_data,train_val,y_train,y_val = train_test_split(train_data,train_labels)\n",
    "    \n",
    "#     numeric to categorical conversion\n",
    "    num_classes = len(np.unique(test_labels))\n",
    "    test_op = test_labels.copy()\n",
    "    y_train = keras.utils.to_categorical(y_train, num_classes)\n",
    "    y_val = keras.utils.to_categorical(y_val, num_classes)\n",
    "    test_labels = keras.utils.to_categorical(test_labels, num_classes) \n",
    "    \n",
    "\n",
    "    train_data = train_data.reshape(train_data.shape[0], train_data.shape[1],1)\n",
    "    test_data = test_data.reshape(test_data.shape[0], test_data.shape[1],1)\n",
    "    train_val = train_val.reshape(train_val.shape[0], train_val.shape[1],1)\n",
    "    y_val = y_val.reshape(y_val.shape[0], y_val.shape[1],1)\n",
    "    \n",
    "#    defining the Model\n",
    "    model = Sequential()\n",
    "    model.add(Conv1D(filters=64, kernel_size=3, activation='relu', input_shape=(187,1)))\n",
    "    model.add(Conv1D(filters=64, kernel_size=3, activation='relu'))\n",
    "    model.add(Dropout(0.5))\n",
    "    model.add(MaxPooling1D(pool_size=2))\n",
    "    model.add(Flatten())\n",
    "    model.add(Dense(100, activation='relu'))\n",
    "    model.add(Dense(num_classes, activation='softmax'))\n",
    "    model.compile(loss='categorical_crossentropy', optimizer='adam', metrics=['accuracy'])\n",
    "    model.summary()\n",
    "    \n",
    "#     training the model\n",
    "    model.fit(train_data, y_train, epochs=epochs, batch_size=batch_size, validation_data=(train_val, y_val))\n",
    "    accuracy = model.evaluate(test_data, test_labels, batch_size = batch_size)\n",
    "    print(\"\\n\")\n",
    "    print(\"accuracy for test_data\",accuracy)\n",
    "\n",
    "#     prediction\n",
    "    pred = model.predict_classes(test_data)\n",
    "    report = classification_report(test_op,pred)\n",
    "    print(\"\\n\")\n",
    "    print(report)\n",
    "    \n",
    "    return model\n",
    "    \n",
    "\n",
    "batch_size = 32\n",
    "epochs = 20\n",
    "model = cnn_model(train_data, test_data,train_labels,test_labels, epochs, batch_size)"
   ]
  },
  {
   "cell_type": "code",
   "execution_count": 28,
   "metadata": {},
   "outputs": [
    {
     "name": "stdout",
     "output_type": "stream",
     "text": [
      "max_depth,score 18 0.9398100636891694\n",
      "best_kernel:rbf f1_score:0.978304899562376 C-Values:100\n",
      "Best Fit so Far SVM with rbf Kernel\n",
      "              precision    recall  f1-score   support\n",
      "\n",
      "         0.0       0.95      0.96      0.95       807\n",
      "         1.0       0.98      0.98      0.98      2104\n",
      "\n",
      "    accuracy                           0.97      2911\n",
      "   macro avg       0.97      0.97      0.97      2911\n",
      "weighted avg       0.97      0.97      0.97      2911\n",
      "\n"
     ]
    }
   ],
   "source": [
    "def select_models():\n",
    "    models=[]\n",
    "    models_to_obj_name={}\n",
    "    model_funcs=[train_decision_tree,gaussian_nb,train_svm]\n",
    "    for funcs in model_funcs:\n",
    "        models.append(funcs(train_data,train_labels))\n",
    "        models_to_obj_name[models[-1][-2]]=models[-1][-1]\n",
    "\n",
    "    models.sort(key=lambda x:x[0])\n",
    "    #print(models,models_to_obj_name)\n",
    "    return models[-1][-2],models[-1][-1]\n",
    "    \n",
    "model,name=select_models()\n",
    "print(\"Best Fit so Far {0}\".format(name))\n",
    "pred=model.predict(test_data)\n",
    "report=classification_report(pred,test_labels)\n",
    "print(report)"
   ]
  },
  {
   "cell_type": "code",
   "execution_count": 50,
   "metadata": {},
   "outputs": [],
   "source": [
    "class CNN(nn.Module):\n",
    "    def __init__(self):\n",
    "        super(CNN, self).__init__()\n",
    "        self.conv1 = nn.Conv1d(1, 4, 3)\n",
    "        self.bn1=nn.BatchNorm1d(4)\n",
    "        \n",
    "        self.conv2 = nn.Conv1d(4, 16, 3)\n",
    "        self.bn2=nn.BatchNorm1d(16)\n",
    "        \n",
    "        \"\"\"\n",
    "        self.conv3 = nn.Conv1d(64, 256, 3)\n",
    "        self.bn3=nn.BatchNorm1d(256)\n",
    "        \"\"\"\n",
    "        \n",
    "        self.fc1 = nn.Linear(16*45, 50)\n",
    "        self.fc2 = nn.Linear(50, 2)\n",
    "        #self.predict=nn.Softmax(dim=1)\n",
    "        \n",
    "    def forward(self, x):\n",
    "        #x=F.dropout(F.avg_pool1d(F.relu(self.bn1(self.conv1(x))),2),p=0.25)\n",
    "        #x=F.dropout(F.avg_pool1d(F.relu(self.bn2(self.conv2(x))),2),p=0.25)\n",
    "        x=F.avg_pool1d(F.relu(self.bn1(self.conv1(x))),2)\n",
    "        \n",
    "        x=F.avg_pool1d(F.relu(self.bn2(self.conv2(x))),2)\n",
    "        \n",
    "        \n",
    "        #print(x.size())\n",
    "        #x=F.dropout(F.avg_pool1d(F.relu(self.bn3(self.conv3(x))),2),p=0.5)\n",
    "        \n",
    "        x = x.view(-1, self.num_flat_features(x))\n",
    "        x = F.relu(self.fc1(x))\n",
    "        x = F.relu(self.fc2(x))\n",
    "        return x\n",
    "    def features_extract(self,x):\n",
    "        x=F.avg_pool1d(F.relu(self.bn1(self.conv1(x))),2)\n",
    "        x=F.avg_pool1d(F.relu(self.bn2(self.conv2(x))),2)\n",
    "        x = x.view(-1, self.num_flat_features(x))\n",
    "        return x\n",
    "        \n",
    "        \n",
    "    def num_flat_features(self, x):\n",
    "        size = x.size()[1:]  # all dimensions except the batch dimension\n",
    "        num_features = 1\n",
    "        for s in size:\n",
    "            #print(s)\n",
    "            num_features *= s\n",
    "        return num_features"
   ]
  },
  {
   "cell_type": "code",
   "execution_count": 12,
   "metadata": {},
   "outputs": [
    {
     "name": "stdout",
     "output_type": "stream",
     "text": [
      "Class 0 72471 Examples\n",
      "Class 1 15083 Examples\n"
     ]
    },
    {
     "data": {
      "image/png": "[encoded data removed]",
      "text/plain": [
       "<Figure size 720x720 with 1 Axes>"
      ]
     },
     "metadata": {
      "needs_background": "light"
     },
     "output_type": "display_data"
    }
   ],
   "source": [
    "train_data_mit = np.genfromtxt('mitbih_train.csv', delimiter=',')\n",
    "test_data_mit=np.genfromtxt('mitbih_test.csv',delimiter=\",\")\n",
    "\n",
    "indices=train_data_mit[:,-1]!=0.0\n",
    "train_data_mit[indices,-1]=1.0\n",
    "\n",
    "indices=test_data_mit[:,-1]!=0.0\n",
    "test_data_mit[indices,-1]=1.0\n",
    "#print(test_data_mit)\n",
    "#test_label_types=np.unique(test_data_mit[:,-1])\n",
    "#print(test_label_types)\n",
    "\"\"\"\n",
    "for values in test_label_types:\n",
    "    print(\"Class {0} {1} Examples\".format(int(values),np.sum(test_data_mit[:,-1]==values)))\n",
    "    print(np.sum(test_data_mit[:,-1]==values))\n",
    "    #examples_per_class.append(np.sum(train_data_mit[:,-1]==values))\n",
    "#print(np.unique(test_data_mit[:,-1]))\n",
    "\"\"\"\n",
    "\n",
    "label_types = np.unique(train_data_mit[:,-1])\n",
    "examples_per_class=[]\n",
    "\n",
    "for values in label_types:\n",
    "    print(\"Class {0} {1} Examples\".format(int(values),np.sum(train_data_mit[:,-1]==values)))\n",
    "    examples_per_class.append(np.sum(train_data_mit[:,-1]==values))\n",
    "\n",
    "plot_examples(label_types,examples_per_class)"
   ]
  },
  {
   "cell_type": "code",
   "execution_count": 13,
   "metadata": {},
   "outputs": [],
   "source": [
    "#Train validation split for ot\n",
    "#print(train_data_mit.shape)\n",
    "train_data_mit,train_labels_mit=train_data_mit[:,:-1],train_data_mit[:,-1]\n",
    "#print(train_data_mit.shape,train_labels_mit.shape)\n",
    "train_data_mit,cv_data_mit,train_labels_mit,cv_labels_mit=test_train_split(train_data_mit,train_labels_mit)\n",
    "\n",
    "train_data_mit=np.append(train_data_mit,train_labels_mit.reshape((train_labels_mit.shape[0],1)),axis=1)\n",
    "cv_data_mit=np.append(cv_data_mit,cv_labels_mit.reshape((cv_labels_mit.shape[0],1)),axis=1)"
   ]
  },
  {
   "cell_type": "code",
   "execution_count": 16,
   "metadata": {},
   "outputs": [],
   "source": [
    "def init(weights=None):\n",
    "    net=CNN()\n",
    "    loss=nn.CrossEntropyLoss(weight=weights)\n",
    "    _optim=optim.Adam(net.parameters(),lr=0.01)\n",
    "    return net,loss,_optim"
   ]
  },
  {
   "cell_type": "code",
   "execution_count": 24,
   "metadata": {},
   "outputs": [
    {
     "name": "stdout",
     "output_type": "stream",
     "text": [
      "Trial, 0\n",
      "Trial, 1\n",
      "Trial, 2\n",
      "Trial, 3\n",
      "Trial, 4\n",
      "0.9556071403958584\n",
      "              precision    recall  f1-score   support\n",
      "\n",
      "         0.0       0.99      0.98      0.98     14494\n",
      "         1.0       0.92      0.93      0.93      3017\n",
      "\n",
      "    accuracy                           0.97     17511\n",
      "   macro avg       0.95      0.96      0.96     17511\n",
      "weighted avg       0.97      0.97      0.97     17511\n",
      "\n"
     ]
    }
   ],
   "source": [
    "def seed_worker(worker_id):\n",
    "    worker_seed = torch.initial_seed() % 2**32\n",
    "    numpy.random.seed(worker_seed)\n",
    "    random.seed(worker_seed)\n",
    "\n",
    "def test_results(model,testloader,output_dict=False):\n",
    "    with torch.no_grad():\n",
    "        all_preds=[]\n",
    "        all_labels=[]\n",
    "        for _,test_data in enumerate(testloader,0):\n",
    "            test_data,test_labels=test_data[:,:-1],test_data[:,-1]\n",
    "            test_data=test_data.view(-1,1,test_data.size()[1])\n",
    "            #print(test_data.size())\n",
    "            outputs=model(test_data.double())\n",
    "            _,pred=torch.max(outputs,1)\n",
    "            pred=pred.to(torch.double)\n",
    "            test_labels=test_labels.to(torch.double)\n",
    "            all_preds.extend(pred.tolist())\n",
    "            all_labels.extend(list(test_labels))\n",
    "        \n",
    "    report=classification_report(all_labels,all_preds,output_dict=output_dict)\n",
    "    return report,np.unique(all_labels)        \n",
    "    \n",
    "torch.backends.cudnn.benchmark = False\n",
    "\n",
    "weights=(max(examples_per_class)*1.0)/torch.Tensor(examples_per_class)\n",
    "\n",
    "batch_size=256\n",
    "dataloader=DataLoader(train_data_mit,shuffle=True,batch_size=batch_size,worker_init_fn=seed_worker)\n",
    "testloader=DataLoader(test_data_mit,batch_size=batch_size,worker_init_fn=seed_worker)\n",
    "valloader=DataLoader(cv_data_mit,batch_size=cv_data_mit.shape[0],worker_init_fn=seed_worker)\n",
    "\n",
    "epochs=10\n",
    "#model=model.double()\n",
    "print_every=10\n",
    "\n",
    "def get_best_model(num_epochs=5,trials=5):\n",
    "    max_f1_score=float(\"-inf\")\n",
    "    best_model=None\n",
    "    for trial in range(trials):\n",
    "        model,loss,_optim=init(weights=weights.double())\n",
    "        model=model.double()\n",
    "        #print(loss.weights)\n",
    "        for epoch in range(num_epochs):\n",
    "            for batch_no,train_data in enumerate(dataloader,0):\n",
    "                train_data,train_labels=train_data[:,:-1],train_data[:,-1]\n",
    "                train_data=train_data.view(-1,1,train_data.size()[1])\n",
    "                outputs=model(train_data.double())\n",
    "                _optim.zero_grad()\n",
    "                loss_func=loss(outputs,train_labels.long())\n",
    "                loss_func.backward()\n",
    "                _optim.step()\n",
    "        print(\"Trial,\",trial)\n",
    "        report,labels=test_results(model.eval(),valloader,output_dict=True)\n",
    "        f1_score=0.0\n",
    "        for values in labels:\n",
    "            #print(report,values)\n",
    "            #print(type(report))\n",
    "            f1_score+=report[str(values)][\"f1-score\"]\n",
    "        if max_f1_score<(f1_score/(float(labels.shape[0]))):\n",
    "            max_f1_score=(f1_score/(float(labels.shape[0])))\n",
    "            best_model=model\n",
    "    return best_model,max_f1_score\n",
    "        \n",
    "\n",
    "\n",
    "model,score=get_best_model()\n",
    "print(score)\n",
    "print(test_results(model.eval(),valloader)[0])\n",
    "_optim=optim.Adam(model.parameters(),lr=0.01)"
   ]
  },
  {
   "cell_type": "code",
   "execution_count": 31,
   "metadata": {},
   "outputs": [],
   "source": [
    "model=CNN()\n",
    "model.load_state_dict(torch.load(\"best_cnn/best_binary_model_after_trials.pt\"))\n",
    "_optim=optim.Adam(model.parameters(),lr=0.01)"
   ]
  },
  {
   "cell_type": "code",
   "execution_count": 32,
   "metadata": {},
   "outputs": [
    {
     "name": "stdout",
     "output_type": "stream",
     "text": [
      "              precision    recall  f1-score   support\n",
      "\n",
      "         0.0       0.99      0.98      0.98     18118\n",
      "         1.0       0.91      0.95      0.93      3774\n",
      "\n",
      "    accuracy                           0.97     21892\n",
      "   macro avg       0.95      0.96      0.95     21892\n",
      "weighted avg       0.97      0.97      0.97     21892\n",
      "\n"
     ]
    }
   ],
   "source": [
    "#Now let's early stop\n",
    "patience=5\n",
    "loss=nn.CrossEntropyLoss(weight=weights)\n",
    "loss.double()\n",
    "best_model=model\n",
    "model.double()\n",
    "max_f1_score=score\n",
    "num_epochs=20\n",
    "improvement=0\n",
    "for epoch in range(num_epochs):\n",
    "    for batch_no,train_data in enumerate(dataloader,0):\n",
    "        train_data,train_labels=train_data[:,:-1],train_data[:,-1]\n",
    "        train_data=train_data.view(-1,1,train_data.size()[1])\n",
    "        outputs=model(train_data.double())\n",
    "        _optim.zero_grad()\n",
    "        loss_func=loss(outputs,train_labels.long())\n",
    "        loss_func.backward()\n",
    "        _optim.step()\n",
    "    \n",
    "    report,labels=test_results(model.eval(),valloader,output_dict=True)\n",
    "    f1_score=0.0\n",
    "    for values in labels:\n",
    "        f1_score+=report[str(values)][\"f1-score\"]\n",
    "\n",
    "    if max_f1_score<(f1_score/(float(labels.shape[0]))):\n",
    "        max_f1_score=(f1_score/(float(labels.shape[0])))\n",
    "        best_model=model\n",
    "        improvement=0\n",
    "    else:\n",
    "        improvement+=1\n",
    "        \n",
    "    if improvement==patience:\n",
    "        break\n",
    "\n",
    "report,_ = test_results(best_model.eval(),testloader)\n",
    "print(report)"
   ]
  },
  {
   "cell_type": "code",
   "execution_count": 33,
   "metadata": {},
   "outputs": [],
   "source": [
    "PATH = \"best_cnn/best_binary_model.pt\"\n",
    "torch.save(best_model.state_dict(), PATH)"
   ]
  },
  {
   "cell_type": "code",
   "execution_count": 51,
   "metadata": {},
   "outputs": [
    {
     "data": {
      "text/plain": [
       "<All keys matched successfully>"
      ]
     },
     "execution_count": 51,
     "metadata": {},
     "output_type": "execute_result"
    }
   ],
   "source": [
    "best_model=CNN()\n",
    "best_model.load_state_dict(torch.load(PATH))"
   ]
  },
  {
   "cell_type": "code",
   "execution_count": 52,
   "metadata": {},
   "outputs": [
    {
     "name": "stdout",
     "output_type": "stream",
     "text": [
      "Class 0 4046 Examples\n",
      "Class 1 10506 Examples\n"
     ]
    },
    {
     "data": {
      "image/png": "[encoded data removed]",
      "text/plain": [
       "<Figure size 720x720 with 1 Axes>"
      ]
     },
     "metadata": {
      "needs_background": "light"
     },
     "output_type": "display_data"
    }
   ],
   "source": [
    "train_data_ab = np.genfromtxt('ptbdb_abnormal.csv', delimiter=',')\n",
    "train_data_normal = np.genfromtxt('ptbdb_normal.csv', delimiter=',')\n",
    "label_types = [0,1]\n",
    "examples_per_class=[train_data_normal.shape[0],train_data_ab.shape[0]]\n",
    "\n",
    "for indx,values in enumerate(label_types):\n",
    "    print(\"Class {0} {1} Examples\".format(int(values),examples_per_class[indx]))\n",
    "\n",
    "plot_examples(label_types,examples_per_class,file_name='ptdb.png')\n",
    "\n",
    "train_data=np.append(train_data_ab,train_data_normal,axis=0)\n",
    "#np.random.shuffle(train_data)\n",
    "assert train_data.shape[0]==sum(examples_per_class)\n",
    "\n",
    "train_data,train_labels=train_data[:,:-1],train_data[:,-1]"
   ]
  },
  {
   "cell_type": "code",
   "execution_count": 53,
   "metadata": {},
   "outputs": [],
   "source": [
    "train_data,test_data,train_labels,test_labels=test_train_split(train_data,train_labels)\n",
    "test_labels=test_labels.astype('int32')\n",
    "train_labels=train_labels.astype('int32')"
   ]
  },
  {
   "cell_type": "code",
   "execution_count": 54,
   "metadata": {},
   "outputs": [],
   "source": [
    "models=[best_model]\n",
    "batch_size=512\n",
    "ptb_train_loader=DataLoader(train_data,batch_size=batch_size)\n",
    "extracted_features=[]\n",
    "\n",
    "aug_features=[]\n",
    "for model in models:\n",
    "    data_feat=None\n",
    "    for _,values in enumerate(ptb_train_loader,0):\n",
    "        model.eval()\n",
    "        model.double()\n",
    "        values=values.view(-1,1,values.size()[-1])\n",
    "        with torch.no_grad():\n",
    "            model.eval()\n",
    "            feats=model.features_extract(values)\n",
    "            if data_feat is None:\n",
    "                data_feat=np.array(feats.numpy())\n",
    "            else:\n",
    "                data_feat=np.vstack((data_feat,feats.numpy()))\n",
    "    aug_features.append(data_feat)\n",
    "\n",
    "train_data=aug_features[0]"
   ]
  },
  {
   "cell_type": "code",
   "execution_count": 55,
   "metadata": {},
   "outputs": [
    {
     "name": "stdout",
     "output_type": "stream",
     "text": [
      "(11641, 720)\n"
     ]
    }
   ],
   "source": [
    "print(train_data.shape)"
   ]
  },
  {
   "cell_type": "code",
   "execution_count": 58,
   "metadata": {},
   "outputs": [
    {
     "name": "stdout",
     "output_type": "stream",
     "text": [
      "best_kernel:rbf f1_score:0.9895413737191738 C-Values:16\n"
     ]
    },
    {
     "ename": "ValueError",
     "evalue": "X.shape[1] = 187 should be equal to 720, the number of features at training time",
     "output_type": "error",
     "traceback": [
      "\u001b[0;31m-----------------------------------------------------------------------\u001b[0m",
      "\u001b[0;31mValueError\u001b[0m                            Traceback (most recent call last)",
      "\u001b[0;32m<ipython-input-58-ecf1a4640d75>\u001b[0m in \u001b[0;36m<module>\u001b[0;34m\u001b[0m\n\u001b[1;32m      1\u001b[0m \u001b[0m_\u001b[0m\u001b[0;34m,\u001b[0m\u001b[0mclf\u001b[0m\u001b[0;34m,\u001b[0m\u001b[0m_\u001b[0m \u001b[0;34m=\u001b[0m \u001b[0mtrain_svm\u001b[0m\u001b[0;34m(\u001b[0m\u001b[0mtrain_data\u001b[0m\u001b[0;34m,\u001b[0m\u001b[0mtrain_labels\u001b[0m\u001b[0;34m)\u001b[0m\u001b[0;34m\u001b[0m\u001b[0;34m\u001b[0m\u001b[0m\n\u001b[0;32m----> 2\u001b[0;31m \u001b[0mpred\u001b[0m \u001b[0;34m=\u001b[0m \u001b[0mclf\u001b[0m\u001b[0;34m.\u001b[0m\u001b[0mpredict\u001b[0m\u001b[0;34m(\u001b[0m\u001b[0mtest_data\u001b[0m\u001b[0;34m)\u001b[0m\u001b[0;34m\u001b[0m\u001b[0;34m\u001b[0m\u001b[0m\n\u001b[0m\u001b[1;32m      3\u001b[0m \u001b[0mreport\u001b[0m\u001b[0;34m=\u001b[0m\u001b[0mclassification_report\u001b[0m\u001b[0;34m(\u001b[0m\u001b[0mtest_labels\u001b[0m\u001b[0;34m,\u001b[0m\u001b[0mpred\u001b[0m\u001b[0;34m)\u001b[0m\u001b[0;34m\u001b[0m\u001b[0;34m\u001b[0m\u001b[0m\n\u001b[1;32m      4\u001b[0m \u001b[0mprint\u001b[0m\u001b[0;34m(\u001b[0m\u001b[0mreport\u001b[0m\u001b[0;34m)\u001b[0m\u001b[0;34m\u001b[0m\u001b[0;34m\u001b[0m\u001b[0m\n",
      "\u001b[0;32m~/.pyenv/versions/3.8.0/envs/iml/lib/python3.8/site-packages/sklearn/svm/_base.py\u001b[0m in \u001b[0;36mpredict\u001b[0;34m(self, X)\u001b[0m\n\u001b[1;32m    613\u001b[0m             \u001b[0my\u001b[0m \u001b[0;34m=\u001b[0m \u001b[0mnp\u001b[0m\u001b[0;34m.\u001b[0m\u001b[0margmax\u001b[0m\u001b[0;34m(\u001b[0m\u001b[0mself\u001b[0m\u001b[0;34m.\u001b[0m\u001b[0mdecision_function\u001b[0m\u001b[0;34m(\u001b[0m\u001b[0mX\u001b[0m\u001b[0;34m)\u001b[0m\u001b[0;34m,\u001b[0m \u001b[0maxis\u001b[0m\u001b[0;34m=\u001b[0m\u001b[0;36m1\u001b[0m\u001b[0;34m)\u001b[0m\u001b[0;34m\u001b[0m\u001b[0;34m\u001b[0m\u001b[0m\n\u001b[1;32m    614\u001b[0m         \u001b[0;32melse\u001b[0m\u001b[0;34m:\u001b[0m\u001b[0;34m\u001b[0m\u001b[0;34m\u001b[0m\u001b[0m\n\u001b[0;32m--> 615\u001b[0;31m             \u001b[0my\u001b[0m \u001b[0;34m=\u001b[0m \u001b[0msuper\u001b[0m\u001b[0;34m(\u001b[0m\u001b[0;34m)\u001b[0m\u001b[0;34m.\u001b[0m\u001b[0mpredict\u001b[0m\u001b[0;34m(\u001b[0m\u001b[0mX\u001b[0m\u001b[0;34m)\u001b[0m\u001b[0;34m\u001b[0m\u001b[0;34m\u001b[0m\u001b[0m\n\u001b[0m\u001b[1;32m    616\u001b[0m         \u001b[0;32mreturn\u001b[0m \u001b[0mself\u001b[0m\u001b[0;34m.\u001b[0m\u001b[0mclasses_\u001b[0m\u001b[0;34m.\u001b[0m\u001b[0mtake\u001b[0m\u001b[0;34m(\u001b[0m\u001b[0mnp\u001b[0m\u001b[0;34m.\u001b[0m\u001b[0masarray\u001b[0m\u001b[0;34m(\u001b[0m\u001b[0my\u001b[0m\u001b[0;34m,\u001b[0m \u001b[0mdtype\u001b[0m\u001b[0;34m=\u001b[0m\u001b[0mnp\u001b[0m\u001b[0;34m.\u001b[0m\u001b[0mintp\u001b[0m\u001b[0;34m)\u001b[0m\u001b[0;34m)\u001b[0m\u001b[0;34m\u001b[0m\u001b[0;34m\u001b[0m\u001b[0m\n\u001b[1;32m    617\u001b[0m \u001b[0;34m\u001b[0m\u001b[0m\n",
      "\u001b[0;32m~/.pyenv/versions/3.8.0/envs/iml/lib/python3.8/site-packages/sklearn/svm/_base.py\u001b[0m in \u001b[0;36mpredict\u001b[0;34m(self, X)\u001b[0m\n\u001b[1;32m    331\u001b[0m         \u001b[0my_pred\u001b[0m \u001b[0;34m:\u001b[0m \u001b[0mndarray\u001b[0m \u001b[0mof\u001b[0m \u001b[0mshape\u001b[0m \u001b[0;34m(\u001b[0m\u001b[0mn_samples\u001b[0m\u001b[0;34m,\u001b[0m\u001b[0;34m)\u001b[0m\u001b[0;34m\u001b[0m\u001b[0;34m\u001b[0m\u001b[0m\n\u001b[1;32m    332\u001b[0m         \"\"\"\n\u001b[0;32m--> 333\u001b[0;31m         \u001b[0mX\u001b[0m \u001b[0;34m=\u001b[0m \u001b[0mself\u001b[0m\u001b[0;34m.\u001b[0m\u001b[0m_validate_for_predict\u001b[0m\u001b[0;34m(\u001b[0m\u001b[0mX\u001b[0m\u001b[0;34m)\u001b[0m\u001b[0;34m\u001b[0m\u001b[0;34m\u001b[0m\u001b[0m\n\u001b[0m\u001b[1;32m    334\u001b[0m         \u001b[0mpredict\u001b[0m \u001b[0;34m=\u001b[0m \u001b[0mself\u001b[0m\u001b[0;34m.\u001b[0m\u001b[0m_sparse_predict\u001b[0m \u001b[0;32mif\u001b[0m \u001b[0mself\u001b[0m\u001b[0;34m.\u001b[0m\u001b[0m_sparse\u001b[0m \u001b[0;32melse\u001b[0m \u001b[0mself\u001b[0m\u001b[0;34m.\u001b[0m\u001b[0m_dense_predict\u001b[0m\u001b[0;34m\u001b[0m\u001b[0;34m\u001b[0m\u001b[0m\n\u001b[1;32m    335\u001b[0m         \u001b[0;32mreturn\u001b[0m \u001b[0mpredict\u001b[0m\u001b[0;34m(\u001b[0m\u001b[0mX\u001b[0m\u001b[0;34m)\u001b[0m\u001b[0;34m\u001b[0m\u001b[0;34m\u001b[0m\u001b[0m\n",
      "\u001b[0;32m~/.pyenv/versions/3.8.0/envs/iml/lib/python3.8/site-packages/sklearn/svm/_base.py\u001b[0m in \u001b[0;36m_validate_for_predict\u001b[0;34m(self, X)\u001b[0m\n\u001b[1;32m    482\u001b[0m                                  (X.shape[1], self.shape_fit_[0]))\n\u001b[1;32m    483\u001b[0m         \u001b[0;32melif\u001b[0m \u001b[0;32mnot\u001b[0m \u001b[0mcallable\u001b[0m\u001b[0;34m(\u001b[0m\u001b[0mself\u001b[0m\u001b[0;34m.\u001b[0m\u001b[0mkernel\u001b[0m\u001b[0;34m)\u001b[0m \u001b[0;32mand\u001b[0m \u001b[0mX\u001b[0m\u001b[0;34m.\u001b[0m\u001b[0mshape\u001b[0m\u001b[0;34m[\u001b[0m\u001b[0;36m1\u001b[0m\u001b[0;34m]\u001b[0m \u001b[0;34m!=\u001b[0m \u001b[0mself\u001b[0m\u001b[0;34m.\u001b[0m\u001b[0mshape_fit_\u001b[0m\u001b[0;34m[\u001b[0m\u001b[0;36m1\u001b[0m\u001b[0;34m]\u001b[0m\u001b[0;34m:\u001b[0m\u001b[0;34m\u001b[0m\u001b[0;34m\u001b[0m\u001b[0m\n\u001b[0;32m--> 484\u001b[0;31m             raise ValueError(\"X.shape[1] = %d should be equal to %d, \"\n\u001b[0m\u001b[1;32m    485\u001b[0m                              \u001b[0;34m\"the number of features at training time\"\u001b[0m \u001b[0;34m%\u001b[0m\u001b[0;34m\u001b[0m\u001b[0;34m\u001b[0m\u001b[0m\n\u001b[1;32m    486\u001b[0m                              (X.shape[1], self.shape_fit_[1]))\n",
      "\u001b[0;31mValueError\u001b[0m: X.shape[1] = 187 should be equal to 720, the number of features at training time"
     ]
    }
   ],
   "source": [
    "#_,clf,_ = train_svm(train_data,train_labels)\n",
    "\n",
    "testloader\n",
    "pred = clf.predict(test_data)\n",
    "report=classification_report(test_labels,pred)\n",
    "print(report)"
   ]
  },
  {
   "cell_type": "code",
   "execution_count": 62,
   "metadata": {},
   "outputs": [],
   "source": [
    "batch_size=512\n",
    "ptb_train_loader=DataLoader(test_data,batch_size=batch_size)\n",
    "model.eval()\n",
    "data_feat=None\n",
    "\n",
    "for _,values in enumerate(ptb_train_loader,0):\n",
    "    model.eval()\n",
    "    model.double()\n",
    "    values=values.view(-1,1,values.size()[-1])\n",
    "    with torch.no_grad():\n",
    "        model.eval()\n",
    "        feats=model.features_extract(values)\n",
    "        if data_feat is None:\n",
    "            data_feat=np.array(feats.numpy())\n",
    "        else:\n",
    "            data_feat=np.vstack((data_feat,feats.numpy()))"
   ]
  },
  {
   "cell_type": "code",
   "execution_count": 65,
   "metadata": {},
   "outputs": [
    {
     "name": "stdout",
     "output_type": "stream",
     "text": [
      "              precision    recall  f1-score   support\n",
      "\n",
      "           0       0.98      0.97      0.98       809\n",
      "           1       0.99      0.99      0.99      2102\n",
      "\n",
      "    accuracy                           0.99      2911\n",
      "   macro avg       0.98      0.98      0.98      2911\n",
      "weighted avg       0.99      0.99      0.99      2911\n",
      "\n"
     ]
    }
   ],
   "source": [
    "pred=clf.predict(data_feat)\n",
    "report=classification_report(test_labels,pred)\n",
    "print(report)"
   ]
  },
  {
   "cell_type": "code",
   "execution_count": null,
   "metadata": {},
   "outputs": [],
   "source": []
  }
 ],
 "metadata": {
  "kernelspec": {
   "display_name": "Python 3",
   "language": "python",
   "name": "python3"
  },
  "language_info": {
   "codemirror_mode": {
    "name": "ipython",
    "version": 3
   },
   "file_extension": ".py",
   "mimetype": "text/x-python",
   "name": "python",
   "nbconvert_exporter": "python",
   "pygments_lexer": "ipython3",
   "version": "3.8.0"
  }
 },
 "nbformat": 4,
 "nbformat_minor": 4
}
